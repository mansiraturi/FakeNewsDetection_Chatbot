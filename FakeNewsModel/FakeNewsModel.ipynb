{
  "cells": [
    {
      "cell_type": "markdown",
      "metadata": {
        "colab_type": "text",
        "id": "view-in-github"
      },
      "source": [
        "<a href=\"https://colab.research.google.com/github/mansiraturi/FakeNewsDetection/blob/main/FakeNewsModel.ipynb\" target=\"_parent\"><img src=\"https://colab.research.google.com/assets/colab-badge.svg\" alt=\"Open In Colab\"/></a>"
      ]
    },
    {
      "cell_type": "code",
      "execution_count": 3,
      "metadata": {
        "id": "tkTnc1YrlYWF"
      },
      "outputs": [],
      "source": [
        "import pandas as pd\n",
        "import numpy as np\n",
        "import seaborn as sns\n",
        "from sklearn.model_selection import train_test_split\n",
        "from sklearn.metrics import classification_report\n",
        "import re\n",
        "import string\n",
        "# import dask.dataframe as dd\n",
        "# from dask.multiprocessing import get\n",
        "from nltk.stem import WordNetLemmatizer\n"
      ]
    },
    {
      "cell_type": "code",
      "execution_count": 6,
      "metadata": {},
      "outputs": [
        {
          "name": "stderr",
          "output_type": "stream",
          "text": [
            "[nltk_data] Downloading package punkt to\n",
            "[nltk_data]     C:\\Users\\mansi\\AppData\\Roaming\\nltk_data...\n",
            "[nltk_data]   Package punkt is already up-to-date!\n"
          ]
        },
        {
          "data": {
            "text/plain": [
              "True"
            ]
          },
          "execution_count": 6,
          "metadata": {},
          "output_type": "execute_result"
        }
      ],
      "source": [
        "import nltk\n",
        "nltk.download('punkt')"
      ]
    },
    {
      "cell_type": "code",
      "execution_count": 6,
      "metadata": {
        "id": "lLg9IA73lh3-"
      },
      "outputs": [],
      "source": [
        "# import matplotlib.pyplot as plt\n",
        "\n",
        "# # Preprocessing Data\n",
        "# import nltk\n",
        "# from nltk.tokenize import word_tokenize\n",
        "# from sklearn.metrics import roc_curve, auc\n",
        "# from keras.preprocessing.text import Tokenizer\n",
        "# from keras.preprocessing.sequence import pad_sequences\n",
        "# from keras.utils import to_categorical\n",
        "# from keras.preprocessing.text import one_hot\n",
        "\n",
        "# #converting to vectors\n",
        "# #from gensim.models import Word2Vec\n",
        "\n",
        "# # Building Model\n",
        "# # Deep Learning\n",
        "# import tensorflow as tf\n",
        "# from keras.models import Sequential\n",
        "# from keras.layers import (\n",
        "#     Dense,\n",
        "#     Embedding,\n",
        "#     GlobalAveragePooling1D,\n",
        "#     LSTM,\n",
        "#     Bidirectional\n",
        "# )\n",
        "# from keras.preprocessing.text import Tokenizer\n",
        "# from keras.preprocessing.sequence import pad_sequences\n",
        "# from keras.utils import to_categorical\n",
        "# from sklearn.model_selection import train_test_split\n",
        "# from sklearn.feature_extraction.text import TfidfVectorizer\n",
        "# from sklearn.metrics import accuracy_score\n",
        "\n",
        "# # model Validation\n",
        "# from sklearn.metrics import confusion_matrix\n",
        "# from sklearn.metrics import classification_report\n",
        "\n"
      ]
    },
    {
      "cell_type": "code",
      "execution_count": null,
      "metadata": {
        "colab": {
          "base_uri": "https://localhost:8080/"
        },
        "id": "87IcFjsSlh6G",
        "outputId": "15cf68ea-67f7-4fd4-8dc8-9c841b84ef50"
      },
      "outputs": [
        {
          "name": "stdout",
          "output_type": "stream",
          "text": [
            "Mounted at /content/drive\n"
          ]
        }
      ],
      "source": [
        "from google.colab import drive\n",
        "drive.mount(\"/content/drive\")"
      ]
    },
    {
      "cell_type": "code",
      "execution_count": 5,
      "metadata": {},
      "outputs": [],
      "source": [
        "from sklearn.metrics import (\n",
        "    accuracy_score, \n",
        "    confusion_matrix, \n",
        "    classification_report,\n",
        "    roc_curve, \n",
        "    auc\n",
        ")\n",
        "\n",
        "# TensorFlow and Keras\n",
        "import tensorflow as tf\n",
        "from tensorflow.keras.preprocessing.text import Tokenizer\n",
        "from tensorflow.keras.preprocessing.sequence import pad_sequences\n",
        "from tensorflow.keras.utils import to_categorical\n",
        "from tensorflow.keras.models import Sequential\n",
        "from tensorflow.keras.layers import (\n",
        "    Dense,\n",
        "    Embedding,\n",
        "    GlobalAveragePooling1D,\n",
        "    LSTM,\n",
        "    Bidirectional\n",
        ")\n"
      ]
    },
    {
      "cell_type": "code",
      "execution_count": 14,
      "metadata": {
        "colab": {
          "base_uri": "https://localhost:8080/",
          "height": 206
        },
        "id": "MdAtvv5Wlh_f",
        "outputId": "deb9f025-5c2f-4c22-c38e-854db5e2a441"
      },
      "outputs": [
        {
          "data": {
            "text/html": [
              "<div>\n",
              "<style scoped>\n",
              "    .dataframe tbody tr th:only-of-type {\n",
              "        vertical-align: middle;\n",
              "    }\n",
              "\n",
              "    .dataframe tbody tr th {\n",
              "        vertical-align: top;\n",
              "    }\n",
              "\n",
              "    .dataframe thead th {\n",
              "        text-align: right;\n",
              "    }\n",
              "</style>\n",
              "<table border=\"1\" class=\"dataframe\">\n",
              "  <thead>\n",
              "    <tr style=\"text-align: right;\">\n",
              "      <th></th>\n",
              "      <th>news</th>\n",
              "      <th>class</th>\n",
              "    </tr>\n",
              "  </thead>\n",
              "  <tbody>\n",
              "    <tr>\n",
              "      <th>0</th>\n",
              "      <td>budget fight loom republican flip fiscal scrip...</td>\n",
              "      <td>1</td>\n",
              "    </tr>\n",
              "    <tr>\n",
              "      <th>1</th>\n",
              "      <td>militari accept transgend recruit monday penta...</td>\n",
              "      <td>1</td>\n",
              "    </tr>\n",
              "    <tr>\n",
              "      <th>2</th>\n",
              "      <td>senior republican senat let mueller job washin...</td>\n",
              "      <td>1</td>\n",
              "    </tr>\n",
              "    <tr>\n",
              "      <th>3</th>\n",
              "      <td>fbi russia probe help australian diplomat tipo...</td>\n",
              "      <td>1</td>\n",
              "    </tr>\n",
              "    <tr>\n",
              "      <th>4</th>\n",
              "      <td>trump want postal servic charg much amazon shi...</td>\n",
              "      <td>1</td>\n",
              "    </tr>\n",
              "  </tbody>\n",
              "</table>\n",
              "</div>"
            ],
            "text/plain": [
              "                                                news  class\n",
              "0  budget fight loom republican flip fiscal scrip...      1\n",
              "1  militari accept transgend recruit monday penta...      1\n",
              "2  senior republican senat let mueller job washin...      1\n",
              "3  fbi russia probe help australian diplomat tipo...      1\n",
              "4  trump want postal servic charg much amazon shi...      1"
            ]
          },
          "execution_count": 14,
          "metadata": {},
          "output_type": "execute_result"
        }
      ],
      "source": [
        "# df= pd.read_csv('/content/drive/MyDrive/preNews.csv', delimiter=\",\")\n",
        "import os\n",
        "project_root = os.path.dirname(os.getcwd())\n",
        "dataset_path = os.path.join(project_root, \"dataset\")\n",
        "df = pd.read_csv(os.path.join(dataset_path, \"preNews.csv\"), delimiter=\",\")\n",
        "df.head()"
      ]
    },
    {
      "cell_type": "code",
      "execution_count": null,
      "metadata": {
        "id": "x8yKqhhkhV0r"
      },
      "outputs": [],
      "source": [
        "corpus=[]"
      ]
    },
    {
      "cell_type": "code",
      "execution_count": null,
      "metadata": {
        "id": "OzBVbVjXZ9H6"
      },
      "outputs": [],
      "source": [
        "for i in range(0, len(df)):\n",
        "  rev = re.sub(r'[^a-zA-Z\\s]', ' ', df['news'][i])\n",
        "  rev =  rev.split()\n",
        "  rev = ' '.join(rev)\n",
        "  corpus.append(rev)"
      ]
    },
    {
      "cell_type": "code",
      "execution_count": null,
      "metadata": {
        "colab": {
          "base_uri": "https://localhost:8080/"
        },
        "id": "MPMZGqx2aiok",
        "outputId": "d2feed5c-cbf6-4a74-a1f7-f8f20dac67cf"
      },
      "outputs": [
        {
          "name": "stdout",
          "output_type": "stream",
          "text": [
            "['budget fight loom republican flip fiscal script washington reuter the head conserv republican faction congress vote month huge expans nation debt pay tax cut call fiscal conserv sunday urg budget restraint keep sharp pivot way among republican repres mark meadow speak face nation drew hard line feder spend lawmak brace battl januari when return holiday wednesday lawmak begin tri pas feder budget fight like link issu immigr polici even novemb congression elect campaign approach republican seek keep control congress presid donald trump republican want big budget increas militari spend democrat want proport increas nondefens discretionari spend program support educ scientif research infrastructur public health environment protect the trump administr alreadi will say increas nondefens discretionari spend percent meadow chairman small influenti hous freedom caucu said program now democrat say enough need give govern pay rais percent for fiscal conserv see rational eventu run peopl money said meadow among republican vote late decemb parti debtfinanc tax overhaul expect balloon feder budget deficit add trillion year trillion nation debt interest hear mark talk fiscal respons democrat repres joseph crowley said crowley said republican tax bill would requir unit state borrow trillion paid futur gener financ tax cut corpor rich thi one least fiscal respons bill ever seen pas histori hous repres think pay mani mani year come crowley said republican insist tax packag biggest tax overhaul year boost economi job growth hous speaker paul ryan support tax bill recent went meadow make clear radio interview welfar entitl reform parti often call would top republican prioriti republican parlanc entitl program mean food stamp hous assist medicar medicaid health insur elderli poor disabl well program creat washington assist needi democrat seiz ryan earli decemb remark say show republican would tri pay tax overhaul seek spend cut social program but goal hous republican may take back seat senat vote democrat need approv budget prevent govern shutdown democrat leverag senat republican narrowli control defend discretionari nondefens program social spend tackl issu dreamer peopl brought illeg countri child trump septemb put march expir date defer action childhood arriv daca program protect young immigr deport provid work permit the presid said recent twitter messag want fund propos mexican border wall immigr law chang exchang agre help dreamer repres debbi dingel told favor link issu polici object wall fund need daca clean said wednesday trump aid meet congression leader discus issu that follow weekend strategi session trump republican leader jan white hous said trump schedul meet sunday florida republican governor rick scott want emerg aid the hous pas billion aid packag hurrican florida texa puerto rico wildfir california the packag far exceed billion request trump administr the senat yet vote aid', 'militari accept transgend recruit monday pentagon washington reuter transgend peopl allow first time enlist militari start monday order feder court pentagon said friday presid donald trump administr decid appeal rule block transgend ban two feder appeal court one washington one virginia last week reject administr request put hold order lower court judg requir militari begin accept transgend recruit jan justic depart offici said administr challeng rule the depart defens announc releas independ studi issu come week rather litig interim appeal occur administr decid wait dod studi continu defend presid law author district court meantim offici said speak condit anonym septemb pentagon said creat panel senior offici studi implement direct trump prohibit transgend individu serv the defens depart feb submit plan trump lawyer repres currentlyserv transgend servic member aspir recruit said expect administr appeal rule conservativemajor suprem court hope would happen pentagon spokeswoman heather babb said statement mandat court order depart defens prepar begin access transgend applic militari servic jan all applic must meet access standard jennif levi lawyer gay lesbian transgend advocaci group glad call decis appeal great news hope mean govern come see way justifi ban good militari countri levi said both glad american civil liberti union repres plaintiff lawsuit file administr move appeal hardlin conserv support trump announc juli would prohibit transgend peopl serv militari revers democrat presid barack obama polici accept trump said twitter time militari burden tremend medic cost disrupt transgend militari would entail four feder judg baltimor washington seattl riversid california issu rule block trump ban legal challeng republican presid polici proceed the judg said ban would like violat right constitut equal protect law the pentagon dec issu guidelin recruit personnel order enlist transgend applic jan the memo outlin medic requir specifi applic sex would identifi even undergar would wear the trump administr previous said legal paper arm forc prepar train thousand personnel medic standard need process transgend applic might accept individu medic fit servic the obama administr set deadlin juli begin accept transgend recruit but trump defens secretari jame matti postpon date jan presid ban put indefinit trump taken step aim roll back transgend right octob administr said feder law ban genderbas workplac discrimin protect transgend employe revers anoth obamaera posit februari trump rescind guidanc issu obama administr say public school allow transgend student restroom correspond gender ident']\n"
          ]
        }
      ],
      "source": [
        "print(corpus[:2])"
      ]
    },
    {
      "cell_type": "code",
      "execution_count": 15,
      "metadata": {
        "id": "BeQG0SaOpk5r"
      },
      "outputs": [],
      "source": [
        "#divide into train and test set\n",
        "X = df.drop(\"class\", axis=1)\n",
        "y = df[\"class\"]"
      ]
    },
    {
      "cell_type": "markdown",
      "metadata": {
        "id": "OkNVdbMtbRuc"
      },
      "source": [
        "**Bag of Words**"
      ]
    },
    {
      "cell_type": "code",
      "execution_count": null,
      "metadata": {
        "id": "UoclAXIobI1L"
      },
      "outputs": [],
      "source": [
        "from sklearn.feature_extraction.text import CountVectorizer\n",
        "cv= CountVectorizer(max_features=5500, ngram_range=(1,3))  #will take a combination of 1,2 or 3 words and count the frequency\n",
        "x_cv = cv.fit_transform(corpus).toarray()"
      ]
    },
    {
      "cell_type": "code",
      "execution_count": null,
      "metadata": {
        "colab": {
          "base_uri": "https://localhost:8080/"
        },
        "id": "TdSYr5Z8b6gn",
        "outputId": "53f5d659-a0a7-49c0-98ea-4800851226f1"
      },
      "outputs": [
        {
          "data": {
            "text/plain": [
              "(44838, 5500)"
            ]
          },
          "execution_count": 42,
          "metadata": {},
          "output_type": "execute_result"
        }
      ],
      "source": [
        "x_cv.shape"
      ]
    },
    {
      "cell_type": "code",
      "execution_count": null,
      "metadata": {
        "colab": {
          "base_uri": "https://localhost:8080/"
        },
        "id": "ZqxqxoDacgWH",
        "outputId": "de1afd21-a8ed-4fde-b861-7bc44b8c9609"
      },
      "outputs": [
        {
          "name": "stdout",
          "output_type": "stream",
          "text": [
            "['abandon' 'abba' 'abc' 'abc new' 'abdullah' 'abe' 'abedin' 'abid' 'abil'\n",
            " 'abl' 'abort' 'about' 'abroad' 'absenc' 'absolut' 'absurd' 'abu' 'abus'\n",
            " 'academ' 'academi']\n"
          ]
        }
      ],
      "source": [
        "feature_names = cv.get_feature_names_out()\n",
        "print(feature_names[:20])\n"
      ]
    },
    {
      "cell_type": "code",
      "execution_count": null,
      "metadata": {
        "colab": {
          "base_uri": "https://localhost:8080/"
        },
        "id": "mFeiv_fUim-w",
        "outputId": "674f297c-c5cf-4d6f-b777-806054318670"
      },
      "outputs": [
        {
          "data": {
            "text/plain": [
              "{'analyzer': 'word',\n",
              " 'binary': False,\n",
              " 'decode_error': 'strict',\n",
              " 'dtype': numpy.int64,\n",
              " 'encoding': 'utf-8',\n",
              " 'input': 'content',\n",
              " 'lowercase': True,\n",
              " 'max_df': 1.0,\n",
              " 'max_features': 5500,\n",
              " 'min_df': 1,\n",
              " 'ngram_range': (1, 3),\n",
              " 'preprocessor': None,\n",
              " 'stop_words': None,\n",
              " 'strip_accents': None,\n",
              " 'token_pattern': '(?u)\\\\b\\\\w\\\\w+\\\\b',\n",
              " 'tokenizer': None,\n",
              " 'vocabulary': None}"
            ]
          },
          "execution_count": 44,
          "metadata": {},
          "output_type": "execute_result"
        }
      ],
      "source": [
        "cv.get_params()"
      ]
    },
    {
      "cell_type": "code",
      "execution_count": null,
      "metadata": {
        "id": "PjJcYYTzpk7r"
      },
      "outputs": [],
      "source": [
        "xc_train, xc_test, yc_train, yc_test= train_test_split(x_cv, y, test_size=.25, stratify=y, random_state=42)"
      ]
    },
    {
      "cell_type": "code",
      "execution_count": null,
      "metadata": {
        "id": "LfnOpHZYiusv"
      },
      "outputs": [],
      "source": [
        "count_df = pd.DataFrame(xc_train, columns = cv.get_feature_names_out())"
      ]
    },
    {
      "cell_type": "code",
      "execution_count": null,
      "metadata": {
        "colab": {
          "base_uri": "https://localhost:8080/",
          "height": 235
        },
        "id": "X-DBzQxUjJ7Q",
        "outputId": "f30510ce-9f62-4f37-a008-6ea0ee7039c5"
      },
      "outputs": [
        {
          "data": {
            "application/vnd.google.colaboratory.intrinsic+json": {
              "type": "dataframe",
              "variable_name": "count_df"
            },
            "text/html": [
              "\n",
              "  <div id=\"df-0df9ee94-2081-4809-ae8f-0ab1cb1be368\" class=\"colab-df-container\">\n",
              "    <div>\n",
              "<style scoped>\n",
              "    .dataframe tbody tr th:only-of-type {\n",
              "        vertical-align: middle;\n",
              "    }\n",
              "\n",
              "    .dataframe tbody tr th {\n",
              "        vertical-align: top;\n",
              "    }\n",
              "\n",
              "    .dataframe thead th {\n",
              "        text-align: right;\n",
              "    }\n",
              "</style>\n",
              "<table border=\"1\" class=\"dataframe\">\n",
              "  <thead>\n",
              "    <tr style=\"text-align: right;\">\n",
              "      <th></th>\n",
              "      <th>abandon</th>\n",
              "      <th>abba</th>\n",
              "      <th>abc</th>\n",
              "      <th>abc new</th>\n",
              "      <th>abdullah</th>\n",
              "      <th>abe</th>\n",
              "      <th>abedin</th>\n",
              "      <th>abid</th>\n",
              "      <th>abil</th>\n",
              "      <th>abl</th>\n",
              "      <th>...</th>\n",
              "      <th>your</th>\n",
              "      <th>youth</th>\n",
              "      <th>youtub</th>\n",
              "      <th>ypg</th>\n",
              "      <th>zealand</th>\n",
              "      <th>zero</th>\n",
              "      <th>zika</th>\n",
              "      <th>zimbabw</th>\n",
              "      <th>zone</th>\n",
              "      <th>zuma</th>\n",
              "    </tr>\n",
              "  </thead>\n",
              "  <tbody>\n",
              "    <tr>\n",
              "      <th>0</th>\n",
              "      <td>0</td>\n",
              "      <td>0</td>\n",
              "      <td>0</td>\n",
              "      <td>0</td>\n",
              "      <td>0</td>\n",
              "      <td>0</td>\n",
              "      <td>0</td>\n",
              "      <td>0</td>\n",
              "      <td>0</td>\n",
              "      <td>0</td>\n",
              "      <td>...</td>\n",
              "      <td>0</td>\n",
              "      <td>0</td>\n",
              "      <td>0</td>\n",
              "      <td>0</td>\n",
              "      <td>0</td>\n",
              "      <td>0</td>\n",
              "      <td>0</td>\n",
              "      <td>0</td>\n",
              "      <td>0</td>\n",
              "      <td>0</td>\n",
              "    </tr>\n",
              "    <tr>\n",
              "      <th>1</th>\n",
              "      <td>0</td>\n",
              "      <td>0</td>\n",
              "      <td>0</td>\n",
              "      <td>0</td>\n",
              "      <td>0</td>\n",
              "      <td>0</td>\n",
              "      <td>0</td>\n",
              "      <td>0</td>\n",
              "      <td>0</td>\n",
              "      <td>0</td>\n",
              "      <td>...</td>\n",
              "      <td>0</td>\n",
              "      <td>0</td>\n",
              "      <td>0</td>\n",
              "      <td>0</td>\n",
              "      <td>0</td>\n",
              "      <td>0</td>\n",
              "      <td>0</td>\n",
              "      <td>0</td>\n",
              "      <td>0</td>\n",
              "      <td>0</td>\n",
              "    </tr>\n",
              "    <tr>\n",
              "      <th>2</th>\n",
              "      <td>0</td>\n",
              "      <td>0</td>\n",
              "      <td>0</td>\n",
              "      <td>0</td>\n",
              "      <td>0</td>\n",
              "      <td>0</td>\n",
              "      <td>0</td>\n",
              "      <td>0</td>\n",
              "      <td>0</td>\n",
              "      <td>0</td>\n",
              "      <td>...</td>\n",
              "      <td>0</td>\n",
              "      <td>1</td>\n",
              "      <td>0</td>\n",
              "      <td>0</td>\n",
              "      <td>0</td>\n",
              "      <td>0</td>\n",
              "      <td>0</td>\n",
              "      <td>0</td>\n",
              "      <td>0</td>\n",
              "      <td>0</td>\n",
              "    </tr>\n",
              "    <tr>\n",
              "      <th>3</th>\n",
              "      <td>0</td>\n",
              "      <td>0</td>\n",
              "      <td>0</td>\n",
              "      <td>0</td>\n",
              "      <td>0</td>\n",
              "      <td>0</td>\n",
              "      <td>0</td>\n",
              "      <td>0</td>\n",
              "      <td>0</td>\n",
              "      <td>0</td>\n",
              "      <td>...</td>\n",
              "      <td>0</td>\n",
              "      <td>0</td>\n",
              "      <td>0</td>\n",
              "      <td>0</td>\n",
              "      <td>0</td>\n",
              "      <td>0</td>\n",
              "      <td>0</td>\n",
              "      <td>0</td>\n",
              "      <td>0</td>\n",
              "      <td>0</td>\n",
              "    </tr>\n",
              "    <tr>\n",
              "      <th>4</th>\n",
              "      <td>0</td>\n",
              "      <td>0</td>\n",
              "      <td>1</td>\n",
              "      <td>0</td>\n",
              "      <td>0</td>\n",
              "      <td>0</td>\n",
              "      <td>0</td>\n",
              "      <td>0</td>\n",
              "      <td>0</td>\n",
              "      <td>0</td>\n",
              "      <td>...</td>\n",
              "      <td>0</td>\n",
              "      <td>0</td>\n",
              "      <td>1</td>\n",
              "      <td>0</td>\n",
              "      <td>0</td>\n",
              "      <td>0</td>\n",
              "      <td>0</td>\n",
              "      <td>0</td>\n",
              "      <td>0</td>\n",
              "      <td>0</td>\n",
              "    </tr>\n",
              "  </tbody>\n",
              "</table>\n",
              "<p>5 rows × 5500 columns</p>\n",
              "</div>\n",
              "    <div class=\"colab-df-buttons\">\n",
              "\n",
              "  <div class=\"colab-df-container\">\n",
              "    <button class=\"colab-df-convert\" onclick=\"convertToInteractive('df-0df9ee94-2081-4809-ae8f-0ab1cb1be368')\"\n",
              "            title=\"Convert this dataframe to an interactive table.\"\n",
              "            style=\"display:none;\">\n",
              "\n",
              "  <svg xmlns=\"http://www.w3.org/2000/svg\" height=\"24px\" viewBox=\"0 -960 960 960\">\n",
              "    <path d=\"M120-120v-720h720v720H120Zm60-500h600v-160H180v160Zm220 220h160v-160H400v160Zm0 220h160v-160H400v160ZM180-400h160v-160H180v160Zm440 0h160v-160H620v160ZM180-180h160v-160H180v160Zm440 0h160v-160H620v160Z\"/>\n",
              "  </svg>\n",
              "    </button>\n",
              "\n",
              "  <style>\n",
              "    .colab-df-container {\n",
              "      display:flex;\n",
              "      gap: 12px;\n",
              "    }\n",
              "\n",
              "    .colab-df-convert {\n",
              "      background-color: #E8F0FE;\n",
              "      border: none;\n",
              "      border-radius: 50%;\n",
              "      cursor: pointer;\n",
              "      display: none;\n",
              "      fill: #1967D2;\n",
              "      height: 32px;\n",
              "      padding: 0 0 0 0;\n",
              "      width: 32px;\n",
              "    }\n",
              "\n",
              "    .colab-df-convert:hover {\n",
              "      background-color: #E2EBFA;\n",
              "      box-shadow: 0px 1px 2px rgba(60, 64, 67, 0.3), 0px 1px 3px 1px rgba(60, 64, 67, 0.15);\n",
              "      fill: #174EA6;\n",
              "    }\n",
              "\n",
              "    .colab-df-buttons div {\n",
              "      margin-bottom: 4px;\n",
              "    }\n",
              "\n",
              "    [theme=dark] .colab-df-convert {\n",
              "      background-color: #3B4455;\n",
              "      fill: #D2E3FC;\n",
              "    }\n",
              "\n",
              "    [theme=dark] .colab-df-convert:hover {\n",
              "      background-color: #434B5C;\n",
              "      box-shadow: 0px 1px 3px 1px rgba(0, 0, 0, 0.15);\n",
              "      filter: drop-shadow(0px 1px 2px rgba(0, 0, 0, 0.3));\n",
              "      fill: #FFFFFF;\n",
              "    }\n",
              "  </style>\n",
              "\n",
              "    <script>\n",
              "      const buttonEl =\n",
              "        document.querySelector('#df-0df9ee94-2081-4809-ae8f-0ab1cb1be368 button.colab-df-convert');\n",
              "      buttonEl.style.display =\n",
              "        google.colab.kernel.accessAllowed ? 'block' : 'none';\n",
              "\n",
              "      async function convertToInteractive(key) {\n",
              "        const element = document.querySelector('#df-0df9ee94-2081-4809-ae8f-0ab1cb1be368');\n",
              "        const dataTable =\n",
              "          await google.colab.kernel.invokeFunction('convertToInteractive',\n",
              "                                                    [key], {});\n",
              "        if (!dataTable) return;\n",
              "\n",
              "        const docLinkHtml = 'Like what you see? Visit the ' +\n",
              "          '<a target=\"_blank\" href=https://colab.research.google.com/notebooks/data_table.ipynb>data table notebook</a>'\n",
              "          + ' to learn more about interactive tables.';\n",
              "        element.innerHTML = '';\n",
              "        dataTable['output_type'] = 'display_data';\n",
              "        await google.colab.output.renderOutput(dataTable, element);\n",
              "        const docLink = document.createElement('div');\n",
              "        docLink.innerHTML = docLinkHtml;\n",
              "        element.appendChild(docLink);\n",
              "      }\n",
              "    </script>\n",
              "  </div>\n",
              "\n",
              "\n",
              "<div id=\"df-47ca8c9f-5cd6-4115-9527-9d8b0fbe4a1b\">\n",
              "  <button class=\"colab-df-quickchart\" onclick=\"quickchart('df-47ca8c9f-5cd6-4115-9527-9d8b0fbe4a1b')\"\n",
              "            title=\"Suggest charts\"\n",
              "            style=\"display:none;\">\n",
              "\n",
              "<svg xmlns=\"http://www.w3.org/2000/svg\" height=\"24px\"viewBox=\"0 0 24 24\"\n",
              "     width=\"24px\">\n",
              "    <g>\n",
              "        <path d=\"M19 3H5c-1.1 0-2 .9-2 2v14c0 1.1.9 2 2 2h14c1.1 0 2-.9 2-2V5c0-1.1-.9-2-2-2zM9 17H7v-7h2v7zm4 0h-2V7h2v10zm4 0h-2v-4h2v4z\"/>\n",
              "    </g>\n",
              "</svg>\n",
              "  </button>\n",
              "\n",
              "<style>\n",
              "  .colab-df-quickchart {\n",
              "      --bg-color: #E8F0FE;\n",
              "      --fill-color: #1967D2;\n",
              "      --hover-bg-color: #E2EBFA;\n",
              "      --hover-fill-color: #174EA6;\n",
              "      --disabled-fill-color: #AAA;\n",
              "      --disabled-bg-color: #DDD;\n",
              "  }\n",
              "\n",
              "  [theme=dark] .colab-df-quickchart {\n",
              "      --bg-color: #3B4455;\n",
              "      --fill-color: #D2E3FC;\n",
              "      --hover-bg-color: #434B5C;\n",
              "      --hover-fill-color: #FFFFFF;\n",
              "      --disabled-bg-color: #3B4455;\n",
              "      --disabled-fill-color: #666;\n",
              "  }\n",
              "\n",
              "  .colab-df-quickchart {\n",
              "    background-color: var(--bg-color);\n",
              "    border: none;\n",
              "    border-radius: 50%;\n",
              "    cursor: pointer;\n",
              "    display: none;\n",
              "    fill: var(--fill-color);\n",
              "    height: 32px;\n",
              "    padding: 0;\n",
              "    width: 32px;\n",
              "  }\n",
              "\n",
              "  .colab-df-quickchart:hover {\n",
              "    background-color: var(--hover-bg-color);\n",
              "    box-shadow: 0 1px 2px rgba(60, 64, 67, 0.3), 0 1px 3px 1px rgba(60, 64, 67, 0.15);\n",
              "    fill: var(--button-hover-fill-color);\n",
              "  }\n",
              "\n",
              "  .colab-df-quickchart-complete:disabled,\n",
              "  .colab-df-quickchart-complete:disabled:hover {\n",
              "    background-color: var(--disabled-bg-color);\n",
              "    fill: var(--disabled-fill-color);\n",
              "    box-shadow: none;\n",
              "  }\n",
              "\n",
              "  .colab-df-spinner {\n",
              "    border: 2px solid var(--fill-color);\n",
              "    border-color: transparent;\n",
              "    border-bottom-color: var(--fill-color);\n",
              "    animation:\n",
              "      spin 1s steps(1) infinite;\n",
              "  }\n",
              "\n",
              "  @keyframes spin {\n",
              "    0% {\n",
              "      border-color: transparent;\n",
              "      border-bottom-color: var(--fill-color);\n",
              "      border-left-color: var(--fill-color);\n",
              "    }\n",
              "    20% {\n",
              "      border-color: transparent;\n",
              "      border-left-color: var(--fill-color);\n",
              "      border-top-color: var(--fill-color);\n",
              "    }\n",
              "    30% {\n",
              "      border-color: transparent;\n",
              "      border-left-color: var(--fill-color);\n",
              "      border-top-color: var(--fill-color);\n",
              "      border-right-color: var(--fill-color);\n",
              "    }\n",
              "    40% {\n",
              "      border-color: transparent;\n",
              "      border-right-color: var(--fill-color);\n",
              "      border-top-color: var(--fill-color);\n",
              "    }\n",
              "    60% {\n",
              "      border-color: transparent;\n",
              "      border-right-color: var(--fill-color);\n",
              "    }\n",
              "    80% {\n",
              "      border-color: transparent;\n",
              "      border-right-color: var(--fill-color);\n",
              "      border-bottom-color: var(--fill-color);\n",
              "    }\n",
              "    90% {\n",
              "      border-color: transparent;\n",
              "      border-bottom-color: var(--fill-color);\n",
              "    }\n",
              "  }\n",
              "</style>\n",
              "\n",
              "  <script>\n",
              "    async function quickchart(key) {\n",
              "      const quickchartButtonEl =\n",
              "        document.querySelector('#' + key + ' button');\n",
              "      quickchartButtonEl.disabled = true;  // To prevent multiple clicks.\n",
              "      quickchartButtonEl.classList.add('colab-df-spinner');\n",
              "      try {\n",
              "        const charts = await google.colab.kernel.invokeFunction(\n",
              "            'suggestCharts', [key], {});\n",
              "      } catch (error) {\n",
              "        console.error('Error during call to suggestCharts:', error);\n",
              "      }\n",
              "      quickchartButtonEl.classList.remove('colab-df-spinner');\n",
              "      quickchartButtonEl.classList.add('colab-df-quickchart-complete');\n",
              "    }\n",
              "    (() => {\n",
              "      let quickchartButtonEl =\n",
              "        document.querySelector('#df-47ca8c9f-5cd6-4115-9527-9d8b0fbe4a1b button');\n",
              "      quickchartButtonEl.style.display =\n",
              "        google.colab.kernel.accessAllowed ? 'block' : 'none';\n",
              "    })();\n",
              "  </script>\n",
              "</div>\n",
              "\n",
              "    </div>\n",
              "  </div>\n"
            ],
            "text/plain": [
              "   abandon  abba  abc  abc new  abdullah  abe  abedin  abid  abil  abl  ...  \\\n",
              "0        0     0    0        0         0    0       0     0     0    0  ...   \n",
              "1        0     0    0        0         0    0       0     0     0    0  ...   \n",
              "2        0     0    0        0         0    0       0     0     0    0  ...   \n",
              "3        0     0    0        0         0    0       0     0     0    0  ...   \n",
              "4        0     0    1        0         0    0       0     0     0    0  ...   \n",
              "\n",
              "   your  youth  youtub  ypg  zealand  zero  zika  zimbabw  zone  zuma  \n",
              "0     0      0       0    0        0     0     0        0     0     0  \n",
              "1     0      0       0    0        0     0     0        0     0     0  \n",
              "2     0      1       0    0        0     0     0        0     0     0  \n",
              "3     0      0       0    0        0     0     0        0     0     0  \n",
              "4     0      0       1    0        0     0     0        0     0     0  \n",
              "\n",
              "[5 rows x 5500 columns]"
            ]
          },
          "execution_count": 50,
          "metadata": {},
          "output_type": "execute_result"
        }
      ],
      "source": [
        "count_df.head()"
      ]
    },
    {
      "cell_type": "code",
      "execution_count": null,
      "metadata": {
        "id": "OCzl0sbUjJ9w"
      },
      "outputs": [],
      "source": [
        "# sorted(zip(classifier.coef_[0]))\n",
        "# we need a model which trains x_cv and this classifier model is then sorted to get the features with most frequency"
      ]
    },
    {
      "cell_type": "markdown",
      "metadata": {
        "id": "VLq68FlC691z"
      },
      "source": [
        "**TF-IDF Vectors**"
      ]
    },
    {
      "cell_type": "code",
      "execution_count": 24,
      "metadata": {},
      "outputs": [],
      "source": [
        "\n",
        "# Extract features and labels as NumPy arrays\n",
        "X = df['news'].values  # Convert to NumPy array\n",
        "y = df['class'].values  # Convert to NumPy array"
      ]
    },
    {
      "cell_type": "code",
      "execution_count": null,
      "metadata": {},
      "outputs": [
        {
          "ename": "AttributeError",
          "evalue": "'numpy.ndarray' object has no attribute 'head'",
          "output_type": "error",
          "traceback": [
            "\u001b[31m---------------------------------------------------------------------------\u001b[39m",
            "\u001b[31mAttributeError\u001b[39m                            Traceback (most recent call last)",
            "\u001b[36mCell\u001b[39m\u001b[36m \u001b[39m\u001b[32mIn[26]\u001b[39m\u001b[32m, line 1\u001b[39m\n\u001b[32m----> \u001b[39m\u001b[32m1\u001b[39m \u001b[43mX\u001b[49m\u001b[43m.\u001b[49m\u001b[43mhead\u001b[49m()\n",
            "\u001b[31mAttributeError\u001b[39m: 'numpy.ndarray' object has no attribute 'head'"
          ]
        }
      ],
      "source": []
    },
    {
      "cell_type": "code",
      "execution_count": null,
      "metadata": {
        "id": "3y9P83jbjJ_9"
      },
      "outputs": [],
      "source": [
        "from sklearn.feature_extraction.text import TfidfVectorizer\n",
        "from sklearn.model_selection import train_test_split\n",
        "\n",
        "# Create TF-IDF Vectorizer\n",
        "vectorizer = TfidfVectorizer(\n",
        "    max_features=5000,\n",
        "    stop_words='english'\n",
        ")\n",
        "\n",
        "# Fit and transform the text data\n",
        "X_tfidf = vectorizer.fit_transform(X)\n",
        "\n",
        "# Ensure y is correctly formatted as a 1D array\n",
        "y = np.ravel(y)\n",
        "\n",
        "# Split the data\n",
        "X_train, X_test, y_train, y_test = train_test_split(\n",
        "    X_tfidf, \n",
        "    y, \n",
        "    test_size=0.25, \n",
        "    random_state=42,\n",
        "    stratify=y\n",
        ")\n"
      ]
    },
    {
      "cell_type": "code",
      "execution_count": 30,
      "metadata": {},
      "outputs": [
        {
          "name": "stdout",
          "output_type": "stream",
          "text": [
            "Full dataset shape: (44838, 5000)\n",
            "Training set shape: (33628, 5000)\n",
            "Testing set shape: (11210, 5000)\n"
          ]
        },
        {
          "data": {
            "text/plain": [
              "['tfidf_vectorizer.pkl']"
            ]
          },
          "execution_count": 30,
          "metadata": {},
          "output_type": "execute_result"
        }
      ],
      "source": [
        "# Print shapes to verify\n",
        "import joblib\n",
        "print(\"Full dataset shape:\", X_tfidf.shape)\n",
        "print(\"Training set shape:\", X_train.shape)\n",
        "print(\"Testing set shape:\", X_test.shape)\n",
        "\n",
        "# Optional: Save the vectorizer for later use\n",
        "joblib.dump(vectorizer, 'tfidf_vectorizer.pkl')"
      ]
    },
    {
      "cell_type": "code",
      "execution_count": null,
      "metadata": {
        "id": "_HcbSdFEeBpC"
      },
      "outputs": [],
      "source": [
        "x_train, x_test, y_train, y_test= train_test_split(X, y, test_size=.25, stratify=y, random_state=42)"
      ]
    },
    {
      "cell_type": "code",
      "execution_count": null,
      "metadata": {
        "colab": {
          "base_uri": "https://localhost:8080/"
        },
        "id": "eZZG6lcEsJVy",
        "outputId": "163c54d1-1ee0-44ab-a757-0feeeb8f2c86"
      },
      "outputs": [
        {
          "data": {
            "text/plain": [
              "33628"
            ]
          },
          "execution_count": 8,
          "metadata": {},
          "output_type": "execute_result"
        }
      ],
      "source": [
        "len(y_train)"
      ]
    },
    {
      "cell_type": "code",
      "execution_count": null,
      "metadata": {
        "colab": {
          "base_uri": "https://localhost:8080/"
        },
        "id": "9niALig3wLsJ",
        "outputId": "c375ff45-09bb-4a1c-e6dc-a214991031b5"
      },
      "outputs": [
        {
          "data": {
            "text/plain": [
              "33628"
            ]
          },
          "execution_count": 9,
          "metadata": {},
          "output_type": "execute_result"
        }
      ],
      "source": [
        "len(x_train)"
      ]
    },
    {
      "cell_type": "code",
      "execution_count": null,
      "metadata": {
        "id": "y1C_IzM-pk9r"
      },
      "outputs": [],
      "source": [
        "#vectorizing x as raw data can't be used directly to perform calculations so we convert textual data to numeric data\n",
        "from sklearn.feature_extraction.text import TfidfVectorizer\n",
        "vectorization= TfidfVectorizer()\n",
        "# Tfidf- term frequency/inverse document frequency: counts the frequency of a word in a file\n",
        "xv_train = vectorization.fit_transform(x_train['news'])\n",
        "xv_test = vectorization.transform(x_test['news'])\n"
      ]
    },
    {
      "cell_type": "code",
      "execution_count": null,
      "metadata": {
        "id": "zvCo4bq2plDi"
      },
      "outputs": [],
      "source": [
        "from sklearn.naive_bayes import MultinomialNB\n",
        "MB = MultinomialNB()\n",
        "MB.fit(xv_train, y_train)\n",
        "pred_MB = MB.predict(xv_test)\n",
        "MB_acc = MB.score(xv_test, y_test)"
      ]
    },
    {
      "cell_type": "code",
      "execution_count": null,
      "metadata": {
        "colab": {
          "base_uri": "https://localhost:8080/"
        },
        "id": "fj1BebOMpecO",
        "outputId": "e0a1aefc-1870-450e-ac1a-1aa3a39223ca"
      },
      "outputs": [
        {
          "name": "stdout",
          "output_type": "stream",
          "text": [
            "[0 1 1 ... 0 0 1]\n"
          ]
        }
      ],
      "source": [
        "print(pred_MB)"
      ]
    },
    {
      "cell_type": "code",
      "execution_count": null,
      "metadata": {
        "colab": {
          "base_uri": "https://localhost:8080/"
        },
        "id": "UxVRGHXfzW03",
        "outputId": "6a5d577d-bf0b-4d39-9c30-75e881a81848"
      },
      "outputs": [
        {
          "name": "stdout",
          "output_type": "stream",
          "text": [
            "0.9411239964317574\n"
          ]
        }
      ],
      "source": [
        "print(MB_acc)"
      ]
    },
    {
      "cell_type": "code",
      "execution_count": null,
      "metadata": {
        "colab": {
          "base_uri": "https://localhost:8080/"
        },
        "id": "a52m9ZL8zZD5",
        "outputId": "c19d8baf-e5d5-44f3-8040-60cc1662a7d8"
      },
      "outputs": [
        {
          "name": "stdout",
          "output_type": "stream",
          "text": [
            "              precision    recall  f1-score   support\n",
            "\n",
            "           0       0.94      0.95      0.94      5863\n",
            "           1       0.94      0.94      0.94      5347\n",
            "\n",
            "    accuracy                           0.94     11210\n",
            "   macro avg       0.94      0.94      0.94     11210\n",
            "weighted avg       0.94      0.94      0.94     11210\n",
            "\n"
          ]
        }
      ],
      "source": [
        "print(classification_report(y_test, pred_MB))"
      ]
    },
    {
      "cell_type": "code",
      "execution_count": null,
      "metadata": {
        "id": "Yek8bZRhS03o"
      },
      "outputs": [],
      "source": [
        "X_df = X.copy()\n",
        "y_df= y.copy()"
      ]
    },
    {
      "cell_type": "code",
      "execution_count": null,
      "metadata": {
        "colab": {
          "base_uri": "https://localhost:8080/"
        },
        "id": "5Q3GVYnfT4qU",
        "outputId": "feddc4dc-e0ca-4aa0-b23f-c76ce4279be6"
      },
      "outputs": [
        {
          "name": "stdout",
          "output_type": "stream",
          "text": [
            "trump: [0.24943725764751434, 0.2871953547000885, -1.6766794919967651, 0.6568116545677185, -4.298946857452393, 2.9204444885253906, 1.3839951753616333, -2.8915774822235107, -0.14933724701404572, 0.9820129871368408, -1.0006996393203735, 1.2044992446899414, -0.7841105461120605, 1.8135277032852173, -2.8738322257995605, -3.143169641494751, 0.47507283091545105, 4.425313949584961, 1.0306642055511475, -0.526606559753418, 1.0593782663345337, 1.5716592073440552, -0.11411906033754349, 1.2844539880752563, -0.8665936589241028, 0.8779049515724182, 1.7362582683563232, 0.42940255999565125, -2.8078360557556152, -1.2084709405899048, 0.30791494250297546, -1.5127878189086914, 1.6082290410995483, -2.2414305210113525, -1.0446279048919678, -0.2785964012145996, 0.5218765735626221, -0.11956803500652313, 0.737395167350769, -0.7304701805114746, -0.5670835375785828, 1.2601877450942993, -1.4483599662780762, 1.2331312894821167, 0.9038975834846497, -0.26454755663871765, -0.7900117635726929, -1.3644351959228516, 0.7043430805206299, -1.0987157821655273, -0.18635205924510956, 0.26675400137901306, 1.57766592502594, 1.979664921760559, 1.1641312837600708, 0.993176281452179, 0.8320035338401794, 0.10738318413496017, 1.0681407451629639, 0.6578766107559204, 1.2786400318145752, 1.7619043588638306, 0.3106658160686493, 1.084856390953064, 0.3874356150627136, 0.5371407866477966, 0.7498201727867126, -1.485497236251831, 1.9740585088729858, 0.06296473741531372, 1.7357501983642578, 2.403831720352173, 0.6403104662895203, -1.1760339736938477, 1.7249239683151245, -0.741398274898529, -0.9006178975105286, 1.8597408533096313, 0.5553811192512512, -0.6344894766807556, 0.06118327006697655, 0.9037459492683411, 0.8971628546714783, -1.3407511711120605, -1.542988657951355, -0.09816095232963562, 1.5041364431381226, -1.5740454196929932, -2.292750597000122, 3.4014017581939697, -0.29296359419822693, 0.2152746617794037, -0.6794945001602173, 1.448947787284851, 0.0017748434329405427, -3.49540638923645, -2.9424595832824707, -0.4885215759277344, -0.9907287955284119, 1.9011811017990112]\n",
            "said: [1.0990225076675415, 0.7621543407440186, 0.0860314592719078, 0.4398481547832489, 0.49301859736442566, 2.158210277557373, 0.4958597421646118, 0.5876356959342957, -0.9530152678489685, -0.8528987765312195, 2.849830150604248, -1.7063063383102417, 0.1737455427646637, 0.9156812429428101, -1.7986727952957153, 0.5956839323043823, 2.1701323986053467, 1.1120719909667969, -0.9321000576019287, 1.169077754020691, -1.3926278352737427, 0.7894334197044373, 0.20148031413555145, 0.9290474653244019, 0.8013407588005066, 1.4488403797149658, 0.24962648749351501, 0.09180868417024612, -0.02378186769783497, -0.47936180233955383, -1.113235592842102, -0.970686674118042, 0.010921185836195946, -0.9596785306930542, 1.6356531381607056, 0.7957667112350464, 0.21504861116409302, 1.2582412958145142, 1.5238062143325806, 4.418659210205078, 1.3536356687545776, -0.6744529008865356, -1.845791220664978, 0.5589714050292969, -1.5699626207351685, -0.5934948325157166, 2.589836359024048, -0.1339649111032486, -0.7581361532211304, -0.4469716250896454, -0.5006446242332458, -1.4266995191574097, -1.63606858253479, 0.4341072738170624, 0.6811215281486511, -0.4057050347328186, 1.5233891010284424, 1.3144124746322632, -1.507765531539917, 1.0217137336730957, -2.960413932800293, -1.4240697622299194, 0.3773576319217682, -1.133178949356079, 1.5778167247772217, -2.2401349544525146, -0.7820835113525391, 1.516818881034851, 1.0390443801879883, -0.09010913223028183, 2.372241497039795, -2.3968820571899414, 0.24096304178237915, -0.4207213521003723, -1.1174463033676147, -0.6196092963218689, -1.5869306325912476, -1.4159469604492188, 1.9289401769638062, -1.0743813514709473, -1.7856171131134033, -0.32167595624923706, -0.650479793548584, -1.982280969619751, -2.6978957653045654, 0.009832976385951042, -0.19841545820236206, -1.0860204696655273, -0.24996598064899445, 1.499723196029663, -2.301671028137207, -1.0932623147964478, 1.3154900074005127, 0.23927584290504456, -0.36020368337631226, 0.8734254240989685, 0.40211665630340576, 0.7883814573287964, -1.3805683851242065, -0.352043092250824]\n",
            "the: [0.36866873502731323, 0.2679399847984314, -0.03885229676961899, -0.9609776735305786, -2.5401971340179443, 0.7249659895896912, 0.00045673412387259305, -1.0679877996444702, 0.3915698826313019, 0.3614385724067688, 0.7556021809577942, 0.29866930842399597, 1.350121259689331, -2.723493814468384, -1.5666923522949219, -0.10498706251382828, -0.010371001437306404, 1.096270203590393, 1.7591184377670288, 1.808664321899414, 0.7794468998908997, -0.2721759080886841, -0.9626317620277405, 0.4823094606399536, -0.31200942397117615, 1.1166975498199463, 1.8567612171173096, -0.11986040323972702, 0.050902046263217926, -2.379394769668579, -1.1935702562332153, 0.10271680355072021, 2.3726303577423096, -1.5222750902175903, 1.89723539352417, -0.5515904426574707, -0.551304817199707, 1.1768627166748047, -1.708817481994629, -0.6123005151748657, 0.017288032919168472, -0.556980311870575, -0.47220200300216675, 1.4275449514389038, -1.2675185203552246, 2.021089553833008, -0.9343963265419006, -1.0644561052322388, -1.9551551342010498, -0.45724084973335266, -0.5380558967590332, 0.2784264385700226, 0.8258299827575684, 0.6094075441360474, 0.6243214011192322, 0.3502344787120819, 0.18713438510894775, -1.0116784572601318, -0.6027159690856934, -0.927920401096344, 0.3825828433036804, 0.9965740442276001, 0.794280469417572, -0.8405593633651733, 1.6422852277755737, -0.37430882453918457, 0.08446156233549118, 0.05768822133541107, 0.355309396982193, -0.9916046857833862, 1.6569596529006958, 0.03264281898736954, 0.7262171506881714, 0.07780991494655609, -0.9686369299888611, -0.975226640701294, 0.9413673281669617, -0.0032128102611750364, 1.800444483757019, -1.995568871498108, 2.032956600189209, -0.40098246932029724, 1.126062035560608, -2.63874888420105, 0.9047743082046509, 0.9855411648750305, -0.6130077242851257, -1.8136398792266846, 0.4412161111831665, 1.906101107597351, 0.8274083733558655, 0.050072081387043, 2.0781521797180176, -0.12488216161727905, -0.7960910201072693, -1.0001163482666016, -0.769692599773407, -1.0837801694869995, 0.4662526845932007, -0.8177921772003174]\n",
            "state: [-0.14599144458770752, 1.6606305837631226, 3.0390255451202393, -0.5790681838989258, 0.7445532083511353, 2.6036274433135986, -1.3983200788497925, 0.2664854824542999, 2.925530433654785, -0.5413292646408081, 0.7506526112556458, 1.7549433708190918, 2.1187705993652344, -1.7394781112670898, 0.09612944722175598, 1.281785488128662, 0.6159250736236572, -1.248397946357727, 0.13426969945430756, 0.8235067129135132, 1.2860280275344849, -0.5075829029083252, 3.107715606689453, 2.4793436527252197, -0.6863742470741272, 0.46117734909057617, 4.3240556716918945, -2.4116644859313965, 1.9498860836029053, -1.4195019006729126, -0.10275454074144363, -3.9306490421295166, -0.1870642751455307, -2.7354564666748047, 0.8638210892677307, 0.7585500478744507, 0.20931300520896912, -2.044191837310791, -2.3209781646728516, 1.8529025316238403, 3.4391674995422363, -0.4803664982318878, 3.7614784240722656, 1.1520733833312988, 0.5032996535301208, 2.1550986766815186, 1.5791535377502441, -0.7506035566329956, 0.0071057481691241264, -1.2940846681594849, -1.911158800125122, 0.5877036452293396, -2.360948324203491, -0.12040020525455475, 0.23293441534042358, 2.066689968109131, -0.5412355661392212, 1.5090030431747437, 0.9646326303482056, -0.14069786667823792, 2.6672656536102295, 2.8904712200164795, 1.731916904449463, -0.14719440042972565, 2.604811429977417, -1.3385545015335083, -1.5922918319702148, 3.3346712589263916, 3.6504616737365723, -0.23889552056789398, 3.0176239013671875, -1.9267024993896484, -2.442112445831299, 2.801461935043335, 1.5783849954605103, -0.751947283744812, -3.144303321838379, 0.17703284323215485, -0.017894206568598747, -0.2519976496696472, 2.7426998615264893, -3.6501717567443848, 1.5106781721115112, -1.5218427181243896, 1.8887615203857422, -1.1680874824523926, 2.236976385116577, -1.722750186920166, -1.4208290576934814, -0.9137520790100098, -3.4934356212615967, -2.58516526222229, 0.8696836829185486, 0.5469813942909241, -0.5239048004150391, -0.20998071134090424, -0.40925148129463196, -1.895281195640564, 0.7965613007545471, -3.0031392574310303]\n",
            "presid: [-1.529158592224121, -0.24470669031143188, -1.8385332822799683, 2.1089611053466797, -1.4897266626358032, 0.5168679356575012, -0.7014971971511841, -2.66113018989563, -0.49406906962394714, 0.6949872374534607, -1.1539623737335205, 1.702485203742981, -0.4318290650844574, -0.13742263615131378, -2.4878628253936768, -2.2805628776550293, -0.1660815179347992, 2.3451385498046875, -0.17432746291160583, -0.3146279752254486, 0.34440720081329346, -1.4044910669326782, 3.393766403198242, 3.4031271934509277, -0.18297062814235687, -0.6301354169845581, 1.3946361541748047, -0.07061084359884262, -1.0033942461013794, -0.7013360857963562, 0.6685693264007568, -0.41680872440338135, -2.313206672668457, -3.104759693145752, 3.20605731010437, -1.2046082019805908, 1.4310516119003296, 1.0056825876235962, -0.17027226090431213, 2.204263687133789, 0.6388123631477356, 0.8867889642715454, -3.251049518585205, 2.0798163414001465, 3.4576966762542725, -0.5919055938720703, 0.04936052858829498, -0.514883279800415, -0.5904378294944763, -2.331531524658203, -0.05626706779003143, 1.8419914245605469, 1.5347789525985718, 2.2324271202087402, 0.3958072066307068, 1.8075557947158813, 0.23749132454395294, -0.4785485565662384, 0.7075389623641968, 0.5289114117622375, 0.7767288684844971, 0.06715356558561325, 1.173144817352295, -0.49292486906051636, -1.3917359113693237, -1.1116684675216675, 0.9393781423568726, -0.5639297962188721, 2.623169183731079, 0.7191746234893799, 0.2570289373397827, 2.833521604537964, -1.0558702945709229, 0.18720395863056183, 1.5798698663711548, 1.1637365818023682, -1.5033094882965088, 0.2743653953075409, -0.046453043818473816, -2.5091094970703125, -0.48004645109176636, -0.6461077928543091, 1.0573444366455078, -0.930994987487793, -3.3926949501037598, -0.7410314083099365, 2.2180347442626953, 0.7950611114501953, -3.498323917388916, -1.7874534130096436, -2.679457426071167, -1.9609078168869019, -0.34583210945129395, -0.8430989384651184, -0.7392238974571228, -1.9571877717971802, 0.3973677456378937, 1.4474272727966309, -0.6220646500587463, 4.390138149261475]\n"
          ]
        }
      ],
      "source": [
        "# from gensim.models import Word2Vec\n",
        "# from nltk.tokenize import word_tokenize\n",
        "\n",
        "# X_df['tokens'] = X_df['news'].apply(lambda x: word_tokenize(x))\n",
        "\n",
        "# # Train Word2Vec model using Gensim\n",
        "# word2vec_model = Word2Vec(sentences=X_df['tokens'], vector_size=100, window=5, min_count=3, workers=2, epochs=10)\n",
        "\n",
        "# # Save the trained Word2Vec model if needed\n",
        "# word2vec_model.save(\"word2vec_model.model\")\n",
        "\n",
        "# # Get word vectors using Gensim\n",
        "# word_vectors_gensim = {word: word2vec_model.wv[word].tolist() for word in word2vec_model.wv.index_to_key}\n",
        "\n",
        "# # Show word vectors using Gensim\n",
        "# for word, vector in list(word_vectors_gensim.items())[:5]:\n",
        "#     print(f'{word}: {vector}')\n"
      ]
    },
    {
      "cell_type": "code",
      "execution_count": null,
      "metadata": {
        "id": "fd23ANI_RuvJ"
      },
      "outputs": [],
      "source": [
        "def agg_vectors(tokens, word2vec_model):\n",
        "    vectors = [word2vec_model.wv[word] for word in tokens if word in word2vec_model.wv]\n",
        "    if vectors:\n",
        "        return np.mean(vectors, axis=0)\n",
        "    else:\n",
        "        return np.zeros(word2vec_model.vector_size)"
      ]
    },
    {
      "cell_type": "code",
      "execution_count": null,
      "metadata": {
        "colab": {
          "base_uri": "https://localhost:8080/",
          "height": 206
        },
        "id": "OCUQM-xPWGFc",
        "outputId": "0d685c79-09c0-47d6-f0b2-80513bd204bb"
      },
      "outputs": [
        {
          "data": {
            "application/vnd.google.colaboratory.intrinsic+json": {
              "repr_error": "unhashable type: 'list'",
              "type": "dataframe",
              "variable_name": "X_df"
            },
            "text/html": [
              "\n",
              "  <div id=\"df-96601bbf-4aac-4813-8a0b-88193f921163\" class=\"colab-df-container\">\n",
              "    <div>\n",
              "<style scoped>\n",
              "    .dataframe tbody tr th:only-of-type {\n",
              "        vertical-align: middle;\n",
              "    }\n",
              "\n",
              "    .dataframe tbody tr th {\n",
              "        vertical-align: top;\n",
              "    }\n",
              "\n",
              "    .dataframe thead th {\n",
              "        text-align: right;\n",
              "    }\n",
              "</style>\n",
              "<table border=\"1\" class=\"dataframe\">\n",
              "  <thead>\n",
              "    <tr style=\"text-align: right;\">\n",
              "      <th></th>\n",
              "      <th>news</th>\n",
              "      <th>tokens</th>\n",
              "    </tr>\n",
              "  </thead>\n",
              "  <tbody>\n",
              "    <tr>\n",
              "      <th>0</th>\n",
              "      <td>budget fight loom republican flip fiscal scrip...</td>\n",
              "      <td>[budget, fight, loom, republican, flip, fiscal...</td>\n",
              "    </tr>\n",
              "    <tr>\n",
              "      <th>1</th>\n",
              "      <td>militari accept transgend recruit monday penta...</td>\n",
              "      <td>[militari, accept, transgend, recruit, monday,...</td>\n",
              "    </tr>\n",
              "    <tr>\n",
              "      <th>2</th>\n",
              "      <td>senior republican senat let mueller job washin...</td>\n",
              "      <td>[senior, republican, senat, let, mueller, job,...</td>\n",
              "    </tr>\n",
              "    <tr>\n",
              "      <th>3</th>\n",
              "      <td>fbi russia probe help australian diplomat tipo...</td>\n",
              "      <td>[fbi, russia, probe, help, australian, diploma...</td>\n",
              "    </tr>\n",
              "    <tr>\n",
              "      <th>4</th>\n",
              "      <td>trump want postal servic charg much amazon shi...</td>\n",
              "      <td>[trump, want, postal, servic, charg, much, ama...</td>\n",
              "    </tr>\n",
              "  </tbody>\n",
              "</table>\n",
              "</div>\n",
              "    <div class=\"colab-df-buttons\">\n",
              "\n",
              "  <div class=\"colab-df-container\">\n",
              "    <button class=\"colab-df-convert\" onclick=\"convertToInteractive('df-96601bbf-4aac-4813-8a0b-88193f921163')\"\n",
              "            title=\"Convert this dataframe to an interactive table.\"\n",
              "            style=\"display:none;\">\n",
              "\n",
              "  <svg xmlns=\"http://www.w3.org/2000/svg\" height=\"24px\" viewBox=\"0 -960 960 960\">\n",
              "    <path d=\"M120-120v-720h720v720H120Zm60-500h600v-160H180v160Zm220 220h160v-160H400v160Zm0 220h160v-160H400v160ZM180-400h160v-160H180v160Zm440 0h160v-160H620v160ZM180-180h160v-160H180v160Zm440 0h160v-160H620v160Z\"/>\n",
              "  </svg>\n",
              "    </button>\n",
              "\n",
              "  <style>\n",
              "    .colab-df-container {\n",
              "      display:flex;\n",
              "      gap: 12px;\n",
              "    }\n",
              "\n",
              "    .colab-df-convert {\n",
              "      background-color: #E8F0FE;\n",
              "      border: none;\n",
              "      border-radius: 50%;\n",
              "      cursor: pointer;\n",
              "      display: none;\n",
              "      fill: #1967D2;\n",
              "      height: 32px;\n",
              "      padding: 0 0 0 0;\n",
              "      width: 32px;\n",
              "    }\n",
              "\n",
              "    .colab-df-convert:hover {\n",
              "      background-color: #E2EBFA;\n",
              "      box-shadow: 0px 1px 2px rgba(60, 64, 67, 0.3), 0px 1px 3px 1px rgba(60, 64, 67, 0.15);\n",
              "      fill: #174EA6;\n",
              "    }\n",
              "\n",
              "    .colab-df-buttons div {\n",
              "      margin-bottom: 4px;\n",
              "    }\n",
              "\n",
              "    [theme=dark] .colab-df-convert {\n",
              "      background-color: #3B4455;\n",
              "      fill: #D2E3FC;\n",
              "    }\n",
              "\n",
              "    [theme=dark] .colab-df-convert:hover {\n",
              "      background-color: #434B5C;\n",
              "      box-shadow: 0px 1px 3px 1px rgba(0, 0, 0, 0.15);\n",
              "      filter: drop-shadow(0px 1px 2px rgba(0, 0, 0, 0.3));\n",
              "      fill: #FFFFFF;\n",
              "    }\n",
              "  </style>\n",
              "\n",
              "    <script>\n",
              "      const buttonEl =\n",
              "        document.querySelector('#df-96601bbf-4aac-4813-8a0b-88193f921163 button.colab-df-convert');\n",
              "      buttonEl.style.display =\n",
              "        google.colab.kernel.accessAllowed ? 'block' : 'none';\n",
              "\n",
              "      async function convertToInteractive(key) {\n",
              "        const element = document.querySelector('#df-96601bbf-4aac-4813-8a0b-88193f921163');\n",
              "        const dataTable =\n",
              "          await google.colab.kernel.invokeFunction('convertToInteractive',\n",
              "                                                    [key], {});\n",
              "        if (!dataTable) return;\n",
              "\n",
              "        const docLinkHtml = 'Like what you see? Visit the ' +\n",
              "          '<a target=\"_blank\" href=https://colab.research.google.com/notebooks/data_table.ipynb>data table notebook</a>'\n",
              "          + ' to learn more about interactive tables.';\n",
              "        element.innerHTML = '';\n",
              "        dataTable['output_type'] = 'display_data';\n",
              "        await google.colab.output.renderOutput(dataTable, element);\n",
              "        const docLink = document.createElement('div');\n",
              "        docLink.innerHTML = docLinkHtml;\n",
              "        element.appendChild(docLink);\n",
              "      }\n",
              "    </script>\n",
              "  </div>\n",
              "\n",
              "\n",
              "<div id=\"df-0ec0e43f-123b-48ba-adf9-4ca2b5fb9724\">\n",
              "  <button class=\"colab-df-quickchart\" onclick=\"quickchart('df-0ec0e43f-123b-48ba-adf9-4ca2b5fb9724')\"\n",
              "            title=\"Suggest charts\"\n",
              "            style=\"display:none;\">\n",
              "\n",
              "<svg xmlns=\"http://www.w3.org/2000/svg\" height=\"24px\"viewBox=\"0 0 24 24\"\n",
              "     width=\"24px\">\n",
              "    <g>\n",
              "        <path d=\"M19 3H5c-1.1 0-2 .9-2 2v14c0 1.1.9 2 2 2h14c1.1 0 2-.9 2-2V5c0-1.1-.9-2-2-2zM9 17H7v-7h2v7zm4 0h-2V7h2v10zm4 0h-2v-4h2v4z\"/>\n",
              "    </g>\n",
              "</svg>\n",
              "  </button>\n",
              "\n",
              "<style>\n",
              "  .colab-df-quickchart {\n",
              "      --bg-color: #E8F0FE;\n",
              "      --fill-color: #1967D2;\n",
              "      --hover-bg-color: #E2EBFA;\n",
              "      --hover-fill-color: #174EA6;\n",
              "      --disabled-fill-color: #AAA;\n",
              "      --disabled-bg-color: #DDD;\n",
              "  }\n",
              "\n",
              "  [theme=dark] .colab-df-quickchart {\n",
              "      --bg-color: #3B4455;\n",
              "      --fill-color: #D2E3FC;\n",
              "      --hover-bg-color: #434B5C;\n",
              "      --hover-fill-color: #FFFFFF;\n",
              "      --disabled-bg-color: #3B4455;\n",
              "      --disabled-fill-color: #666;\n",
              "  }\n",
              "\n",
              "  .colab-df-quickchart {\n",
              "    background-color: var(--bg-color);\n",
              "    border: none;\n",
              "    border-radius: 50%;\n",
              "    cursor: pointer;\n",
              "    display: none;\n",
              "    fill: var(--fill-color);\n",
              "    height: 32px;\n",
              "    padding: 0;\n",
              "    width: 32px;\n",
              "  }\n",
              "\n",
              "  .colab-df-quickchart:hover {\n",
              "    background-color: var(--hover-bg-color);\n",
              "    box-shadow: 0 1px 2px rgba(60, 64, 67, 0.3), 0 1px 3px 1px rgba(60, 64, 67, 0.15);\n",
              "    fill: var(--button-hover-fill-color);\n",
              "  }\n",
              "\n",
              "  .colab-df-quickchart-complete:disabled,\n",
              "  .colab-df-quickchart-complete:disabled:hover {\n",
              "    background-color: var(--disabled-bg-color);\n",
              "    fill: var(--disabled-fill-color);\n",
              "    box-shadow: none;\n",
              "  }\n",
              "\n",
              "  .colab-df-spinner {\n",
              "    border: 2px solid var(--fill-color);\n",
              "    border-color: transparent;\n",
              "    border-bottom-color: var(--fill-color);\n",
              "    animation:\n",
              "      spin 1s steps(1) infinite;\n",
              "  }\n",
              "\n",
              "  @keyframes spin {\n",
              "    0% {\n",
              "      border-color: transparent;\n",
              "      border-bottom-color: var(--fill-color);\n",
              "      border-left-color: var(--fill-color);\n",
              "    }\n",
              "    20% {\n",
              "      border-color: transparent;\n",
              "      border-left-color: var(--fill-color);\n",
              "      border-top-color: var(--fill-color);\n",
              "    }\n",
              "    30% {\n",
              "      border-color: transparent;\n",
              "      border-left-color: var(--fill-color);\n",
              "      border-top-color: var(--fill-color);\n",
              "      border-right-color: var(--fill-color);\n",
              "    }\n",
              "    40% {\n",
              "      border-color: transparent;\n",
              "      border-right-color: var(--fill-color);\n",
              "      border-top-color: var(--fill-color);\n",
              "    }\n",
              "    60% {\n",
              "      border-color: transparent;\n",
              "      border-right-color: var(--fill-color);\n",
              "    }\n",
              "    80% {\n",
              "      border-color: transparent;\n",
              "      border-right-color: var(--fill-color);\n",
              "      border-bottom-color: var(--fill-color);\n",
              "    }\n",
              "    90% {\n",
              "      border-color: transparent;\n",
              "      border-bottom-color: var(--fill-color);\n",
              "    }\n",
              "  }\n",
              "</style>\n",
              "\n",
              "  <script>\n",
              "    async function quickchart(key) {\n",
              "      const quickchartButtonEl =\n",
              "        document.querySelector('#' + key + ' button');\n",
              "      quickchartButtonEl.disabled = true;  // To prevent multiple clicks.\n",
              "      quickchartButtonEl.classList.add('colab-df-spinner');\n",
              "      try {\n",
              "        const charts = await google.colab.kernel.invokeFunction(\n",
              "            'suggestCharts', [key], {});\n",
              "      } catch (error) {\n",
              "        console.error('Error during call to suggestCharts:', error);\n",
              "      }\n",
              "      quickchartButtonEl.classList.remove('colab-df-spinner');\n",
              "      quickchartButtonEl.classList.add('colab-df-quickchart-complete');\n",
              "    }\n",
              "    (() => {\n",
              "      let quickchartButtonEl =\n",
              "        document.querySelector('#df-0ec0e43f-123b-48ba-adf9-4ca2b5fb9724 button');\n",
              "      quickchartButtonEl.style.display =\n",
              "        google.colab.kernel.accessAllowed ? 'block' : 'none';\n",
              "    })();\n",
              "  </script>\n",
              "</div>\n",
              "\n",
              "    </div>\n",
              "  </div>\n"
            ],
            "text/plain": [
              "                                                news  \\\n",
              "0  budget fight loom republican flip fiscal scrip...   \n",
              "1  militari accept transgend recruit monday penta...   \n",
              "2  senior republican senat let mueller job washin...   \n",
              "3  fbi russia probe help australian diplomat tipo...   \n",
              "4  trump want postal servic charg much amazon shi...   \n",
              "\n",
              "                                              tokens  \n",
              "0  [budget, fight, loom, republican, flip, fiscal...  \n",
              "1  [militari, accept, transgend, recruit, monday,...  \n",
              "2  [senior, republican, senat, let, mueller, job,...  \n",
              "3  [fbi, russia, probe, help, australian, diploma...  \n",
              "4  [trump, want, postal, servic, charg, much, ama...  "
            ]
          },
          "execution_count": 21,
          "metadata": {},
          "output_type": "execute_result"
        }
      ],
      "source": [
        "X_df.head()"
      ]
    },
    {
      "cell_type": "code",
      "execution_count": null,
      "metadata": {
        "id": "LBtHauy_Tb5V"
      },
      "outputs": [],
      "source": [
        "X_df['vector'] = X_df['tokens'].apply(lambda tokens: agg_vectors(tokens, word2vec_model))\n",
        "\n",
        "# Prepare features for the Naive Bayes model\n",
        "X_vec = pd.DataFrame(X_df['vector'].tolist(), index=X.index)\n"
      ]
    },
    {
      "cell_type": "code",
      "execution_count": null,
      "metadata": {
        "id": "G6rX88YqetMx"
      },
      "outputs": [],
      "source": [
        "#power tranformation\n",
        "#X_vec = np.sqrt(X_vec.abs()) * np.sign(X_vec)"
      ]
    },
    {
      "cell_type": "code",
      "execution_count": null,
      "metadata": {
        "id": "mQabuizadjfH"
      },
      "outputs": [],
      "source": [
        "X_vec[X_vec < 0] = 0"
      ]
    },
    {
      "cell_type": "code",
      "execution_count": null,
      "metadata": {
        "colab": {
          "base_uri": "https://localhost:8080/"
        },
        "id": "DqkpomBLbwO4",
        "outputId": "be925fc8-4c9b-4518-cb00-19cc0b6352fa"
      },
      "outputs": [
        {
          "data": {
            "text/plain": [
              "0    1\n",
              "1    1\n",
              "2    1\n",
              "3    1\n",
              "4    1\n",
              "Name: class, dtype: int64"
            ]
          },
          "execution_count": 35,
          "metadata": {},
          "output_type": "execute_result"
        }
      ],
      "source": [
        "y_df.head()"
      ]
    },
    {
      "cell_type": "code",
      "execution_count": null,
      "metadata": {
        "id": "pUe4oHDFZQqr"
      },
      "outputs": [],
      "source": [
        "# Split the data into train and test sets\n",
        "X_train, X_test, y_train, y_test = train_test_split(X_vec, y_df, test_size=0.25, random_state=42)"
      ]
    },
    {
      "cell_type": "markdown",
      "metadata": {
        "id": "x4XToTRXfMD2"
      },
      "source": [
        "**Naive Bayes**"
      ]
    },
    {
      "cell_type": "code",
      "execution_count": 31,
      "metadata": {
        "colab": {
          "base_uri": "https://localhost:8080/"
        },
        "id": "BfRCKxyPTTUC",
        "outputId": "d053b1ae-df4f-407e-c5a5-bd8e7e4d24bb"
      },
      "outputs": [
        {
          "name": "stdout",
          "output_type": "stream",
          "text": [
            "Accuracy: 0.9280107047279215\n"
          ]
        }
      ],
      "source": [
        "from sklearn.naive_bayes import MultinomialNB\n",
        "# Initialize and train the Naive Bayes model\n",
        "nb_model = MultinomialNB()\n",
        "nb_model.fit(X_train, y_train)\n",
        "\n",
        "# Make predictions on the test set\n",
        "predictions = nb_model.predict(X_test)\n",
        "\n",
        "# Evaluate the model\n",
        "accuracy = np.mean(predictions == y_test)\n",
        "print(f\"Accuracy: {accuracy}\")"
      ]
    },
    {
      "cell_type": "code",
      "execution_count": 32,
      "metadata": {
        "colab": {
          "base_uri": "https://localhost:8080/",
          "height": 447
        },
        "id": "YOTHSC0g9ocN",
        "outputId": "a3adbedf-a629-4c01-cf73-d42fb7da5e4b"
      },
      "outputs": [
        {
          "data": {
            "text/plain": [
              "<Axes: >"
            ]
          },
          "execution_count": 32,
          "metadata": {},
          "output_type": "execute_result"
        },
        {
          "data": {
            "image/png": "[encoded data removed]",
            "text/plain": [
              "<Figure size 640x480 with 2 Axes>"
            ]
          },
          "metadata": {},
          "output_type": "display_data"
        }
      ],
      "source": [
        "import seaborn as sns\n",
        "from sklearn.metrics import classification_report\n",
        "clf_report = classification_report(y_test, predictions, target_names=['Fake', 'True'], output_dict=True)\n",
        "cleaned_report={}\n",
        "cleaned_report['Fake']=clf_report['Fake']\n",
        "cleaned_report['True']=clf_report['True']\n",
        "sns.heatmap(pd.DataFrame(cleaned_report).iloc[:-1,:],annot=True)"
      ]
    },
    {
      "cell_type": "code",
      "execution_count": 38,
      "metadata": {},
      "outputs": [
        {
          "name": "stdout",
          "output_type": "stream",
          "text": [
            "              precision    recall  f1-score   support\n",
            "\n",
            "           0       0.93      0.93      0.93      5863\n",
            "           1       0.93      0.92      0.92      5347\n",
            "\n",
            "    accuracy                           0.93     11210\n",
            "   macro avg       0.93      0.93      0.93     11210\n",
            "weighted avg       0.93      0.93      0.93     11210\n",
            "\n"
          ]
        }
      ],
      "source": [
        "print(classification_report(y_test, predictions))"
      ]
    },
    {
      "cell_type": "markdown",
      "metadata": {
        "id": "bgFIud5qfJkA"
      },
      "source": [
        "**Logistic Regression**"
      ]
    },
    {
      "cell_type": "code",
      "execution_count": null,
      "metadata": {
        "colab": {
          "base_uri": "https://localhost:8080/",
          "height": 213
        },
        "id": "Aewi0kTgfIuX",
        "outputId": "776a5d38-8e65-4625-f16e-04ef3e5328ae"
      },
      "outputs": [
        {
          "data": {
            "text/plain": [
              "0.9851917930419268"
            ]
          },
          "execution_count": 34,
          "metadata": {},
          "output_type": "execute_result"
        }
      ],
      "source": [
        "from sklearn.linear_model import LogisticRegression\n",
        "\n",
        "#Y=1/(1+e^(-z)) ; if prediction is greater than the threshold value-> classified as 1 or true news\n",
        "#Z=w.x+b\n",
        "#Y=prediction probability(determines whether label will be 0 or 1), x=input features\n",
        "#w=weights (how important a feature is), b=biases(intercept)\n",
        "LR=LogisticRegression()\n",
        "LR.fit(X_train, y_train)\n",
        "pred_LR = LR.predict(X_test)\n",
        "LR_acc=LR.score(X_test, y_test)\n",
        "LR_acc\n",
        "\n"
      ]
    },
    {
      "cell_type": "code",
      "execution_count": 36,
      "metadata": {
        "id": "2S57XCV8j4Iy"
      },
      "outputs": [
        {
          "data": {
            "text/plain": [
              "<Axes: >"
            ]
          },
          "execution_count": 36,
          "metadata": {},
          "output_type": "execute_result"
        },
        {
          "data": {
            "image/png": "[encoded data removed]",
            "text/plain": [
              "<Figure size 640x480 with 2 Axes>"
            ]
          },
          "metadata": {},
          "output_type": "display_data"
        }
      ],
      "source": [
        "lr_clf_report = classification_report(y_test, pred_LR, target_names=['Fake', 'True'], output_dict=True)\n",
        "lr_report={}\n",
        "lr_report['Fake']=lr_clf_report['Fake']\n",
        "lr_report['True']=lr_clf_report['True']\n",
        "sns.heatmap(pd.DataFrame(lr_report).iloc[:-1,:],annot=True)"
      ]
    },
    {
      "cell_type": "code",
      "execution_count": 37,
      "metadata": {
        "colab": {
          "base_uri": "https://localhost:8080/"
        },
        "id": "YXF2OkE5ztOu",
        "outputId": "c245611d-f065-4c67-f19c-5fa29e774230"
      },
      "outputs": [
        {
          "name": "stdout",
          "output_type": "stream",
          "text": [
            "              precision    recall  f1-score   support\n",
            "\n",
            "           0       0.99      0.98      0.99      5863\n",
            "           1       0.98      0.99      0.98      5347\n",
            "\n",
            "    accuracy                           0.99     11210\n",
            "   macro avg       0.99      0.99      0.99     11210\n",
            "weighted avg       0.99      0.99      0.99     11210\n",
            "\n"
          ]
        }
      ],
      "source": [
        "print(classification_report(y_test, pred_LR))"
      ]
    },
    {
      "cell_type": "markdown",
      "metadata": {
        "id": "fnnYOcbTFkcp"
      },
      "source": [
        "**Decision Tree**"
      ]
    },
    {
      "cell_type": "code",
      "execution_count": 39,
      "metadata": {
        "colab": {
          "base_uri": "https://localhost:8080/"
        },
        "id": "5KzizEB9ztS9",
        "outputId": "0dd9936f-1aff-4dac-b86c-140b00da511e"
      },
      "outputs": [
        {
          "name": "stdout",
          "output_type": "stream",
          "text": [
            "              precision    recall  f1-score   support\n",
            "\n",
            "           0       0.99      1.00      1.00      5863\n",
            "           1       1.00      0.99      1.00      5347\n",
            "\n",
            "    accuracy                           1.00     11210\n",
            "   macro avg       1.00      1.00      1.00     11210\n",
            "weighted avg       1.00      1.00      1.00     11210\n",
            "\n"
          ]
        }
      ],
      "source": [
        "from sklearn.tree import DecisionTreeClassifier\n",
        "\n",
        "DT = DecisionTreeClassifier()\n",
        "DT.fit(X_train, y_train)\n",
        "\n",
        "DecisionTreeClassifier()\n",
        "DT_acc=DT.score(X_test, y_test)\n",
        "pred_DT =  DT.predict(X_test)\n",
        "print(classification_report(y_test, pred_DT))"
      ]
    },
    {
      "cell_type": "code",
      "execution_count": 42,
      "metadata": {
        "colab": {
          "base_uri": "https://localhost:8080/"
        },
        "id": "_Jlva2XjztWI",
        "outputId": "646666a0-60b0-4971-ba58-6daf94294f01"
      },
      "outputs": [
        {
          "name": "stdout",
          "output_type": "stream",
          "text": [
            "[[5841   22]\n",
            " [  31 5316]]\n"
          ]
        }
      ],
      "source": [
        "cm = confusion_matrix(y_test, pred_DT)\n",
        "print(cm)\n",
        "# as3=accuracy_score(y_test, pred_DT)\n",
        "# ps3=precision_score(y_test, pred_DT)\n",
        "# r3=recall_score(y_test, pred_DT)\n",
        "# f13=f1_score(y_test, pred_DT)\n",
        "# print(\"Accuracy Score :\",accuracy_score(y_test, pred_DT))\n",
        "# print(\"Precision Score :\",precision_score(y_test, pred_DT))\n",
        "# print(\"Recall Score :\",recall_score(y_test, pred_DT))\n",
        "# print(\"f1 Score :\",f1_score(y_test, pred_DT))\n"
      ]
    },
    {
      "cell_type": "code",
      "execution_count": 41,
      "metadata": {
        "colab": {
          "base_uri": "https://localhost:8080/",
          "height": 447
        },
        "id": "pqvtgKf-zb9L",
        "outputId": "24f88774-b2a2-4aab-fb75-488527cd5e87"
      },
      "outputs": [
        {
          "data": {
            "text/plain": [
              "<Axes: >"
            ]
          },
          "execution_count": 41,
          "metadata": {},
          "output_type": "execute_result"
        },
        {
          "data": {
            "image/png": "[encoded data removed]",
            "text/plain": [
              "<Figure size 640x480 with 2 Axes>"
            ]
          },
          "metadata": {},
          "output_type": "display_data"
        }
      ],
      "source": [
        "#Heat Map\n",
        "clf_report = classification_report(y_test, pred_DT, target_names=['Fake', 'True'], output_dict=True)\n",
        "cleaned_report={}\n",
        "cleaned_report['Fake']=clf_report['Fake']\n",
        "cleaned_report['True']=clf_report['True']\n",
        "sns.heatmap(pd.DataFrame(cleaned_report).iloc[:-1,:],annot=True)"
      ]
    },
    {
      "cell_type": "markdown",
      "metadata": {},
      "source": [
        "**Comparison**"
      ]
    },
    {
      "cell_type": "code",
      "execution_count": 43,
      "metadata": {},
      "outputs": [
        {
          "name": "stdout",
          "output_type": "stream",
          "text": [
            "\n",
            "--------------------------------------------------\n",
            "Training and evaluating Naive Bayes\n",
            "\n",
            "Cross-validation scores: [0.92164734 0.92328278 0.92818912 0.92743494 0.92535316]\n",
            "CV Accuracy: 0.9252 (+/- 0.0049)\n",
            "Test Accuracy: 0.9280\n",
            "\n",
            "Confusion Matrix:\n",
            "[[5470  393]\n",
            " [ 414 4933]]\n",
            "\n",
            "Classification Report:\n",
            "              precision    recall  f1-score   support\n",
            "\n",
            "           0       0.93      0.93      0.93      5863\n",
            "           1       0.93      0.92      0.92      5347\n",
            "\n",
            "    accuracy                           0.93     11210\n",
            "   macro avg       0.93      0.93      0.93     11210\n",
            "weighted avg       0.93      0.93      0.93     11210\n",
            "\n",
            "\n",
            "--------------------------------------------------\n",
            "Training and evaluating Logistic Regression\n",
            "\n",
            "Cross-validation scores: [0.98349688 0.985281   0.98542968 0.98408922 0.98319703]\n",
            "CV Accuracy: 0.9843 (+/- 0.0018)\n",
            "Test Accuracy: 0.9852\n",
            "\n",
            "Confusion Matrix:\n",
            "[[5754  109]\n",
            " [  57 5290]]\n",
            "\n",
            "Classification Report:\n",
            "              precision    recall  f1-score   support\n",
            "\n",
            "           0       0.99      0.98      0.99      5863\n",
            "           1       0.98      0.99      0.98      5347\n",
            "\n",
            "    accuracy                           0.99     11210\n",
            "   macro avg       0.99      0.99      0.99     11210\n",
            "weighted avg       0.99      0.99      0.99     11210\n",
            "\n",
            "\n",
            "--------------------------------------------------\n",
            "Training and evaluating Decision Tree\n",
            "\n",
            "Cross-validation scores: [0.99286351 0.99330955 0.99212013 0.99405204 0.99360595]\n",
            "CV Accuracy: 0.9932 (+/- 0.0013)\n",
            "Test Accuracy: 0.9952\n",
            "\n",
            "Confusion Matrix:\n",
            "[[5841   22]\n",
            " [  32 5315]]\n",
            "\n",
            "Classification Report:\n",
            "              precision    recall  f1-score   support\n",
            "\n",
            "           0       0.99      1.00      1.00      5863\n",
            "           1       1.00      0.99      0.99      5347\n",
            "\n",
            "    accuracy                           1.00     11210\n",
            "   macro avg       1.00      1.00      1.00     11210\n",
            "weighted avg       1.00      1.00      1.00     11210\n",
            "\n",
            "\n",
            "Model Comparison:\n",
            "                     CV Accuracy    CV Std  Test Accuracy\n",
            "Naive Bayes             0.925181  0.002460       0.928011\n",
            "Logistic Regression     0.984299  0.000910       0.985192\n",
            "Decision Tree           0.993190  0.000661       0.995183\n"
          ]
        }
      ],
      "source": [
        "from sklearn.model_selection import StratifiedKFold, cross_val_score\n",
        "\n",
        "# Initialize models\n",
        "models = {\n",
        "    'Naive Bayes': MultinomialNB(),\n",
        "    'Logistic Regression': LogisticRegression(random_state=42),\n",
        "    'Decision Tree': DecisionTreeClassifier(random_state=42)\n",
        "}\n",
        "\n",
        "# Initialize results dictionary\n",
        "results = {}\n",
        "\n",
        "# Perform cross-validation and evaluation for each model\n",
        "for name, model in models.items():\n",
        "    print(f\"\\n{'-'*50}\")\n",
        "    print(f\"Training and evaluating {name}\")\n",
        "    \n",
        "    # Stratified K-Fold cross-validation\n",
        "    cv = StratifiedKFold(n_splits=5, shuffle=True, random_state=42)\n",
        "    cv_scores = cross_val_score(model, X_train, y_train, cv=cv, scoring='accuracy')\n",
        "    \n",
        "    # Train the model on the full training set\n",
        "    model.fit(X_train, y_train)\n",
        "    \n",
        "    # Make predictions on test set\n",
        "    y_pred = model.predict(X_test)\n",
        "    \n",
        "    # Store results\n",
        "    results[name] = {\n",
        "        'CV Accuracy Mean': cv_scores.mean(),\n",
        "        'CV Accuracy Std': cv_scores.std(),\n",
        "        'Test Accuracy': accuracy_score(y_test, y_pred),\n",
        "        'Confusion Matrix': confusion_matrix(y_test, y_pred)\n",
        "    }\n",
        "    \n",
        "    # Print detailed results\n",
        "    print(f\"\\nCross-validation scores: {cv_scores}\")\n",
        "    print(f\"CV Accuracy: {cv_scores.mean():.4f} (+/- {cv_scores.std()*2:.4f})\")\n",
        "    print(f\"Test Accuracy: {accuracy_score(y_test, y_pred):.4f}\")\n",
        "    print(\"\\nConfusion Matrix:\")\n",
        "    print(confusion_matrix(y_test, y_pred))\n",
        "    print(\"\\nClassification Report:\")\n",
        "    print(classification_report(y_test, y_pred))\n",
        "\n",
        "# Create comparison DataFrame\n",
        "comparison_df = pd.DataFrame({\n",
        "    'CV Accuracy': [results[model]['CV Accuracy Mean'] for model in models.keys()],\n",
        "    'CV Std': [results[model]['CV Accuracy Std'] for model in models.keys()],\n",
        "    'Test Accuracy': [results[model]['Test Accuracy'] for model in models.keys()]\n",
        "}, index=models.keys())\n",
        "\n",
        "# Display comparison\n",
        "print(\"\\nModel Comparison:\")\n",
        "print(comparison_df)\n",
        "\n"
      ]
    },
    {
      "cell_type": "code",
      "execution_count": 44,
      "metadata": {},
      "outputs": [
        {
          "data": {
            "text/plain": [
              "<Figure size 1000x600 with 0 Axes>"
            ]
          },
          "metadata": {},
          "output_type": "display_data"
        },
        {
          "data": {
            "image/png": "[encoded data removed]",
            "text/plain": [
              "<Figure size 640x480 with 1 Axes>"
            ]
          },
          "metadata": {},
          "output_type": "display_data"
        },
        {
          "data": {
            "image/png": "[encoded data removed]",
            "text/plain": [
              "<Figure size 1500x500 with 6 Axes>"
            ]
          },
          "metadata": {},
          "output_type": "display_data"
        }
      ],
      "source": [
        "# Visualize results\n",
        "import matplotlib.pyplot as plt\n",
        "import seaborn as sns\n",
        "\n",
        "# Plot accuracy comparison\n",
        "plt.figure(figsize=(10, 6))\n",
        "comparison_df[['CV Accuracy', 'Test Accuracy']].plot(kind='bar', yerr=comparison_df['CV Std'], capsize=5)\n",
        "plt.title('Model Performance Comparison')\n",
        "plt.ylabel('Accuracy Score')\n",
        "plt.xticks(rotation=45)\n",
        "plt.tight_layout()\n",
        "plt.show()\n",
        "\n",
        "# Plot confusion matrices\n",
        "fig, axes = plt.subplots(1, 3, figsize=(15, 5))\n",
        "for i, (name, model) in enumerate(models.items()):\n",
        "    sns.heatmap(results[name]['Confusion Matrix'], annot=True, fmt='d', ax=axes[i])\n",
        "    axes[i].set_title(f'{name} Confusion Matrix')\n",
        "plt.tight_layout()\n",
        "plt.show()"
      ]
    },
    {
      "cell_type": "markdown",
      "metadata": {
        "id": "b6bQik0jHMdU"
      },
      "source": [
        "**LSTM**"
      ]
    },
    {
      "cell_type": "code",
      "execution_count": 50,
      "metadata": {},
      "outputs": [
        {
          "name": "stdout",
          "output_type": "stream",
          "text": [
            "Training data shape: (26902, 100)\n",
            "Testing data shape: (11210, 100)\n",
            "Training labels shape: (26902,)\n",
            "Testing labels shape: (11210,)\n"
          ]
        }
      ],
      "source": [
        "#Parameters\n",
        "MAX_FEATURES = 10000 \n",
        "MAX_LEN = 100        # max length of each sequence\n",
        "EMBEDDING_DIM = 100  # Dimension of embedding vectors\n",
        "BATCH_SIZE = 64\n",
        "EPOCHS = 10\n",
        "\n",
        "# Initialize tokenizer\n",
        "tokenizer = Tokenizer(num_words=MAX_FEATURES, oov_token=\"<OOV>\")\n",
        "tokenizer.fit_on_texts(X)  # X contains your 'news' texts\n",
        "\n",
        "# Convert texts to sequences\n",
        "X_sequences = tokenizer.texts_to_sequences(X)\n",
        "\n",
        "# Pad sequences to ensure uniform length\n",
        "X_padded = pad_sequences(\n",
        "    X_sequences,\n",
        "    maxlen=MAX_LEN,\n",
        "    padding='post',\n",
        "    truncating='post'\n",
        ")\n",
        "\n",
        "# Convert target to numpy array\n",
        "y_array = np.array(y)\n",
        "\n",
        "# Split the data\n",
        "from sklearn.model_selection import train_test_split\n",
        "X_train_lstm, X_test_lstm, y_train_lstm, y_test_lstm = train_test_split(\n",
        "    X_padded, \n",
        "    y_array,\n",
        "    test_size=0.25,\n",
        "    random_state=42,\n",
        "    stratify=y_array\n",
        ")\n",
        "\n",
        "# Create validation split from training data\n",
        "X_train_lstm, X_val_lstm, y_train_lstm, y_val_lstm = train_test_split(\n",
        "    X_train_lstm,\n",
        "    y_train_lstm,\n",
        "    test_size=0.2,\n",
        "    random_state=42,\n",
        "    stratify=y_train_lstm\n",
        ")\n",
        "\n",
        "# Print shapes to verify\n",
        "print(\"Training data shape:\", X_train_lstm.shape)\n",
        "print(\"Testing data shape:\", X_test_lstm.shape)\n",
        "print(\"Training labels shape:\", y_train_lstm.shape)\n",
        "print(\"Testing labels shape:\", y_test_lstm.shape)\n",
        "\n",
        "# Save tokenizer for later use (optional)\n",
        "import pickle\n",
        "with open('tokenizer.pickle', 'wb') as handle:\n",
        "    pickle.dump(tokenizer, handle, protocol=pickle.HIGHEST_PROTOCOL)\n"
      ]
    },
    {
      "cell_type": "code",
      "execution_count": 51,
      "metadata": {},
      "outputs": [
        {
          "name": "stdout",
          "output_type": "stream",
          "text": [
            "Model: \"sequential_2\"\n",
            "_________________________________________________________________\n",
            " Layer (type)                Output Shape              Param #   \n",
            "=================================================================\n",
            " embedding_2 (Embedding)     (None, 100, 100)          1000000   \n",
            "                                                                 \n",
            " lstm_4 (LSTM)               (None, 100, 64)           42240     \n",
            "                                                                 \n",
            " dropout_4 (Dropout)         (None, 100, 64)           0         \n",
            "                                                                 \n",
            " lstm_5 (LSTM)               (None, 32)                12416     \n",
            "                                                                 \n",
            " dropout_5 (Dropout)         (None, 32)                0         \n",
            "                                                                 \n",
            " dense_4 (Dense)             (None, 16)                528       \n",
            "                                                                 \n",
            " dense_5 (Dense)             (None, 1)                 17        \n",
            "                                                                 \n",
            "=================================================================\n",
            "Total params: 1,055,201\n",
            "Trainable params: 1,055,201\n",
            "Non-trainable params: 0\n",
            "_________________________________________________________________\n"
          ]
        }
      ],
      "source": [
        "from tensorflow.keras.layers import Embedding, LSTM, Dense, Dropout\n",
        "from tensorflow.keras.callbacks import EarlyStopping, ModelCheckpoint\n",
        "\n",
        "BATCH_SIZE = 64\n",
        "EPOCHS = 10\n",
        "\n",
        "early_stopping = EarlyStopping(\n",
        "    monitor='val_loss',\n",
        "    patience=3,\n",
        "    restore_best_weights=True\n",
        ")\n",
        "\n",
        "model_checkpoint = ModelCheckpoint(\n",
        "    'best_lstm_model.h5',\n",
        "    monitor='val_accuracy',\n",
        "    save_best_only=True\n",
        ")\n",
        "\n",
        "\n",
        "model = Sequential([\n",
        "    Embedding(MAX_FEATURES, EMBEDDING_DIM, input_length=MAX_LEN),\n",
        "    LSTM(64, return_sequences=True),\n",
        "    Dropout(0.3),\n",
        "    LSTM(32),\n",
        "    Dropout(0.2),\n",
        "    Dense(16, activation='relu'),\n",
        "    Dense(1, activation='sigmoid')\n",
        "])\n",
        "\n",
        "# Compile model\n",
        "model.compile(\n",
        "    optimizer='adam',\n",
        "    loss='binary_crossentropy',\n",
        "    metrics=['accuracy']\n",
        ")\n",
        "\n",
        "# Print model summary\n",
        "model.summary()"
      ]
    },
    {
      "cell_type": "code",
      "execution_count": 52,
      "metadata": {},
      "outputs": [
        {
          "name": "stdout",
          "output_type": "stream",
          "text": [
            "Epoch 1/10\n",
            "421/421 [==============================] - 63s 138ms/step - loss: 0.3752 - accuracy: 0.8425 - val_loss: 0.3873 - val_accuracy: 0.8388\n",
            "Epoch 2/10\n",
            "421/421 [==============================] - 57s 135ms/step - loss: 0.3872 - accuracy: 0.8386 - val_loss: 0.3781 - val_accuracy: 0.8442\n",
            "Epoch 3/10\n",
            "421/421 [==============================] - 58s 137ms/step - loss: 0.3718 - accuracy: 0.8477 - val_loss: 0.3522 - val_accuracy: 0.8604\n",
            "Epoch 4/10\n",
            "421/421 [==============================] - 61s 145ms/step - loss: 0.2849 - accuracy: 0.8897 - val_loss: 0.1222 - val_accuracy: 0.9682\n",
            "Epoch 5/10\n",
            "421/421 [==============================] - 60s 143ms/step - loss: 0.0932 - accuracy: 0.9795 - val_loss: 0.0781 - val_accuracy: 0.9833\n",
            "Epoch 6/10\n",
            "421/421 [==============================] - 59s 141ms/step - loss: 0.1117 - accuracy: 0.9713 - val_loss: 0.1697 - val_accuracy: 0.9514\n",
            "Epoch 7/10\n",
            "421/421 [==============================] - 65s 153ms/step - loss: 0.1523 - accuracy: 0.9525 - val_loss: 0.1184 - val_accuracy: 0.9554\n",
            "Epoch 8/10\n",
            "421/421 [==============================] - 109s 259ms/step - loss: 0.1535 - accuracy: 0.9476 - val_loss: 0.0756 - val_accuracy: 0.9755\n",
            "Epoch 9/10\n",
            "421/421 [==============================] - 107s 254ms/step - loss: 0.0467 - accuracy: 0.9870 - val_loss: 0.0525 - val_accuracy: 0.9868\n",
            "Epoch 10/10\n",
            "421/421 [==============================] - 107s 255ms/step - loss: 0.0227 - accuracy: 0.9939 - val_loss: 0.0745 - val_accuracy: 0.9762\n",
            "\n",
            "Test Accuracy: 0.9775\n",
            "351/351 [==============================] - 21s 51ms/step\n",
            "\n",
            "Classification Report:\n",
            "              precision    recall  f1-score   support\n",
            "\n",
            "           0       0.96      1.00      0.98      5863\n",
            "           1       1.00      0.95      0.98      5347\n",
            "\n",
            "    accuracy                           0.98     11210\n",
            "   macro avg       0.98      0.98      0.98     11210\n",
            "weighted avg       0.98      0.98      0.98     11210\n",
            "\n"
          ]
        },
        {
          "data": {
            "image/png": "[encoded data removed]",
            "text/plain": [
              "<Figure size 1200x400 with 2 Axes>"
            ]
          },
          "metadata": {},
          "output_type": "display_data"
        },
        {
          "data": {
            "image/png": "[encoded data removed]",
            "text/plain": [
              "<Figure size 800x600 with 2 Axes>"
            ]
          },
          "metadata": {},
          "output_type": "display_data"
        }
      ],
      "source": [
        "from tensorflow.keras.callbacks import EarlyStopping, ModelCheckpoint\n",
        "from tensorflow.keras.optimizers import Adam\n",
        "\n",
        "# Train model\n",
        "history = model.fit(\n",
        "    X_train_lstm,\n",
        "    y_train_lstm,\n",
        "    batch_size=BATCH_SIZE,\n",
        "    epochs=EPOCHS,\n",
        "    validation_data=(X_val_lstm, y_val_lstm),\n",
        "    callbacks=[early_stopping, model_checkpoint],\n",
        "    verbose=1\n",
        ")\n",
        "\n",
        "# Evaluate model\n",
        "test_loss, test_accuracy = model.evaluate(X_test_lstm, y_test_lstm, verbose=0)\n",
        "print(f\"\\nTest Accuracy: {test_accuracy:.4f}\")\n",
        "\n",
        "# Make predictions\n",
        "y_pred_lstm = model.predict(X_test_lstm)\n",
        "y_pred_classes = (y_pred_lstm > 0.5).astype(int)\n",
        "\n",
        "# Print classification report\n",
        "from sklearn.metrics import classification_report, confusion_matrix\n",
        "print(\"\\nClassification Report:\")\n",
        "print(classification_report(y_test_lstm, y_pred_classes))\n",
        "\n",
        "# Plot training history\n",
        "import matplotlib.pyplot as plt\n",
        "\n",
        "plt.figure(figsize=(12, 4))\n",
        "\n",
        "# Plot accuracy\n",
        "plt.subplot(1, 2, 1)\n",
        "plt.plot(history.history['accuracy'], label='Training Accuracy')\n",
        "plt.plot(history.history['val_accuracy'], label='Validation Accuracy')\n",
        "plt.title('Model Accuracy')\n",
        "plt.xlabel('Epoch')\n",
        "plt.ylabel('Accuracy')\n",
        "plt.legend()\n",
        "\n",
        "# Plot loss\n",
        "plt.subplot(1, 2, 2)\n",
        "plt.plot(history.history['loss'], label='Training Loss')\n",
        "plt.plot(history.history['val_loss'], label='Validation Loss')\n",
        "plt.title('Model Loss')\n",
        "plt.xlabel('Epoch')\n",
        "plt.ylabel('Loss')\n",
        "plt.legend()\n",
        "\n",
        "plt.tight_layout()\n",
        "plt.show()\n",
        "\n",
        "# Plot confusion matrix\n",
        "plt.figure(figsize=(8, 6))\n",
        "cm = confusion_matrix(y_test_lstm, y_pred_classes)\n",
        "sns.heatmap(cm, annot=True, fmt='d', cmap='Blues')\n",
        "plt.title('Confusion Matrix')\n",
        "plt.ylabel('True Label')\n",
        "plt.xlabel('Predicted Label')\n",
        "plt.show()"
      ]
    }
  ],
  "metadata": {
    "colab": {
      "authorship_tag": "ABX9TyNigHjycdoIwTtKsBtAoStd",
      "include_colab_link": true,
      "provenance": []
    },
    "kernelspec": {
      "display_name": "myenv",
      "language": "python",
      "name": "python3"
    },
    "language_info": {
      "codemirror_mode": {
        "name": "ipython",
        "version": 3
      },
      "file_extension": ".py",
      "mimetype": "text/x-python",
      "name": "python",
      "nbconvert_exporter": "python",
      "pygments_lexer": "ipython3",
      "version": "3.11.9"
    }
  },
  "nbformat": 4,
  "nbformat_minor": 0
}
